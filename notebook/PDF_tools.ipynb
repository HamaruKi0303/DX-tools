{
 "cells": [
  {
   "cell_type": "markdown",
   "id": "0593c271",
   "metadata": {},
   "source": [
    "## Initialization"
   ]
  },
  {
   "cell_type": "code",
   "execution_count": 1,
   "id": "b19d77e5",
   "metadata": {},
   "outputs": [
    {
     "name": "stdout",
     "output_type": "stream",
     "text": [
      "/home/notebook\r\n"
     ]
    }
   ],
   "source": [
    "!pwd"
   ]
  },
  {
   "cell_type": "code",
   "execution_count": 2,
   "id": "b67f3b50",
   "metadata": {},
   "outputs": [
    {
     "name": "stdout",
     "output_type": "stream",
     "text": [
      "/home\n"
     ]
    }
   ],
   "source": [
    "%cd /home"
   ]
  },
  {
   "cell_type": "code",
   "execution_count": 3,
   "id": "c2d6f231",
   "metadata": {},
   "outputs": [
    {
     "name": "stdout",
     "output_type": "stream",
     "text": [
      "Dockerfile  README.md  docker-compose.yml  notebook\r\n",
      "LICENSE     data       in_docker.bat\r\n"
     ]
    }
   ],
   "source": [
    "!ls"
   ]
  },
  {
   "cell_type": "markdown",
   "id": "239983e0",
   "metadata": {},
   "source": [
    "## Required packages"
   ]
  },
  {
   "cell_type": "code",
   "execution_count": 17,
   "id": "7d886c8b",
   "metadata": {},
   "outputs": [],
   "source": [
    "import pandas as pd\n",
    "from tabula.io import read_pdf\n",
    "from loguru import logger"
   ]
  },
  {
   "cell_type": "markdown",
   "id": "c12a8c1a",
   "metadata": {},
   "source": [
    "## Setting Param"
   ]
  },
  {
   "cell_type": "code",
   "execution_count": 21,
   "id": "5cc204f9",
   "metadata": {},
   "outputs": [],
   "source": [
    "delivery_slip_path = \"./data/002_delivery_slip/002_delivery_slip_v4.pdf\"\n",
    "pdf_csv_save_path  = \"./data/002_delivery_slip/pdf_raw_csv_v4.csv\""
   ]
  },
  {
   "cell_type": "markdown",
   "id": "a9cb05a8",
   "metadata": {},
   "source": [
    "## PDF scan"
   ]
  },
  {
   "cell_type": "markdown",
   "id": "2123b870",
   "metadata": {},
   "source": [
    "PDFをデータフレームのリストに変換"
   ]
  },
  {
   "cell_type": "code",
   "execution_count": 6,
   "id": "1e8155a1",
   "metadata": {},
   "outputs": [
    {
     "name": "stderr",
     "output_type": "stream",
     "text": [
      "Got stderr: Dec 11, 2022 11:16:51 AM org.apache.fontbox.ttf.CmapSubtable processSubtype14\n",
      "WARNING: Format 14 cmap table is not supported and will be ignored\n",
      "Dec 11, 2022 11:16:51 AM org.apache.fontbox.ttf.CmapSubtable processSubtype14\n",
      "WARNING: Format 14 cmap table is not supported and will be ignored\n",
      "\n"
     ]
    }
   ],
   "source": [
    "# lattice=Trueでテーブルの軸線でセルを判定\n",
    "dfs = read_pdf(delivery_slip_path, lattice=True, pages = 'all')"
   ]
  },
  {
   "cell_type": "markdown",
   "id": "37c6301c",
   "metadata": {},
   "source": [
    "データフレームをマージ"
   ]
  },
  {
   "cell_type": "code",
   "execution_count": 7,
   "id": "28c61108",
   "metadata": {},
   "outputs": [
    {
     "name": "stderr",
     "output_type": "stream",
     "text": [
      "/tmp/ipykernel_190/572646924.py:6: FutureWarning: The frame.append method is deprecated and will be removed from pandas in a future version. Use pandas.concat instead.\n",
      "  _df = _df.append(df)\n",
      "/tmp/ipykernel_190/572646924.py:6: FutureWarning: The frame.append method is deprecated and will be removed from pandas in a future version. Use pandas.concat instead.\n",
      "  _df = _df.append(df)\n"
     ]
    }
   ],
   "source": [
    "for i, df in enumerate(dfs):\n",
    "    if(i==0):\n",
    "        _df = df\n",
    "        \n",
    "    else:\n",
    "        _df = _df.append(df)"
   ]
  },
  {
   "cell_type": "markdown",
   "id": "1145d080",
   "metadata": {},
   "source": [
    "番号のふり直し"
   ]
  },
  {
   "cell_type": "code",
   "execution_count": 8,
   "id": "e6682e6a",
   "metadata": {},
   "outputs": [],
   "source": [
    "df_total =  _df.reset_index()"
   ]
  },
  {
   "cell_type": "markdown",
   "id": "9154970b",
   "metadata": {},
   "source": [
    "マージしたデータフレームを表示"
   ]
  },
  {
   "cell_type": "code",
   "execution_count": 9,
   "id": "89f316f0",
   "metadata": {},
   "outputs": [
    {
     "name": "stdout",
     "output_type": "stream",
     "text": [
      "     index         摘要   数量 単位     単価       金額  2022/10/3  2022/10/4  \\\n",
      "0        0    Sample1  220  個    900  198,000         10         30   \n",
      "1        1    Sample2  200  個    600  120,000         10         30   \n",
      "2        2    Sample3  220  個    200   44,000         10         50   \n",
      "3        3    Sample4  240  個    300   72,000         30         50   \n",
      "4        4    Sample5  120  個    500   60,000         10         10   \n",
      "..     ...        ...  ... ..    ...      ...        ...        ...   \n",
      "118     10  Sample119  190  個    900  171,000         10         10   \n",
      "119     11  Sample120  250  個    100   25,000         50         30   \n",
      "120     12  Sample121  230  個  1,000  230,000         30         30   \n",
      "121     13  Sample122  240  個    900  216,000         10         40   \n",
      "122     14  Sample123  250  個    800  200,000         40         10   \n",
      "\n",
      "     2022/10/5  2022/10/6  2022/10/7  2022/10/8  2022/10/9  2022/10/10  \n",
      "0           50         30         30         20         30          20  \n",
      "1           40         30         30         20         20          20  \n",
      "2           30         30         10         30         40          20  \n",
      "3           10         30         30         10         40          40  \n",
      "4           10         40         10         10         10          20  \n",
      "..         ...        ...        ...        ...        ...         ...  \n",
      "118         20         50         30         10         20          40  \n",
      "119         10         50         20         10         50          30  \n",
      "120         30         10         40         20         40          30  \n",
      "121         40         50         40         10         10          40  \n",
      "122         40         50         20         20         30          40  \n",
      "\n",
      "[123 rows x 14 columns]\n"
     ]
    }
   ],
   "source": [
    "print(df_total)"
   ]
  },
  {
   "cell_type": "markdown",
   "id": "1ff7358d",
   "metadata": {},
   "source": [
    "マージしたデータフレームの統計量を表示"
   ]
  },
  {
   "cell_type": "code",
   "execution_count": 10,
   "id": "17f1d349",
   "metadata": {},
   "outputs": [
    {
     "name": "stdout",
     "output_type": "stream",
     "text": [
      "            index          数量   2022/10/3   2022/10/4   2022/10/5   2022/10/6  \\\n",
      "count  123.000000  123.000000  123.000000  123.000000  123.000000  123.000000   \n",
      "mean    16.219512  238.861789   29.024390   29.349593   30.325203   29.674797   \n",
      "std     10.475214   38.094000   15.063507   13.774521   12.990221   14.080271   \n",
      "min      0.000000  120.000000   10.000000   10.000000   10.000000   10.000000   \n",
      "25%      7.000000  210.000000   10.000000   20.000000   20.000000   20.000000   \n",
      "50%     15.000000  240.000000   30.000000   30.000000   30.000000   30.000000   \n",
      "75%     25.000000  260.000000   40.000000   40.000000   40.000000   40.000000   \n",
      "max     35.000000  350.000000   50.000000   50.000000   50.000000   50.000000   \n",
      "\n",
      "        2022/10/7   2022/10/8   2022/10/9  2022/10/10  \n",
      "count  123.000000  123.000000  123.000000  123.000000  \n",
      "mean    29.918699   29.756098   31.056911   29.756098  \n",
      "std     14.054690   13.817512   13.599241   13.758063  \n",
      "min     10.000000   10.000000   10.000000   10.000000  \n",
      "25%     20.000000   20.000000   20.000000   20.000000  \n",
      "50%     30.000000   30.000000   30.000000   30.000000  \n",
      "75%     40.000000   40.000000   40.000000   40.000000  \n",
      "max     50.000000   50.000000   50.000000   50.000000  \n"
     ]
    }
   ],
   "source": [
    "print(df_total.describe())"
   ]
  },
  {
   "cell_type": "markdown",
   "id": "f429f41a",
   "metadata": {},
   "source": [
    "## PDF class"
   ]
  },
  {
   "cell_type": "markdown",
   "id": "29d15911",
   "metadata": {},
   "source": [
    "pdf ファイルを読み込みcsvに変換するclassを作成しました．"
   ]
  },
  {
   "cell_type": "code",
   "execution_count": 27,
   "id": "ce5c43ca",
   "metadata": {},
   "outputs": [],
   "source": [
    "class PdfReader:\n",
    "\n",
    "    def __init__(self):\n",
    "        self.dfs = None\n",
    "        self.df_total = None\n",
    "\n",
    "    def read(self, data_path):\n",
    "        logger.info(\"read data_path : {}\".format(data_path))\n",
    "        self.dfs = read_pdf(data_path, lattice=True, pages = 'all')\n",
    "\n",
    "    def merge(self):\n",
    "        for i, df in enumerate(self.dfs):\n",
    "            if(i==0):\n",
    "                _df = df\n",
    "            else:\n",
    "                _df = pd.concat([_df, df])\n",
    "        self.df_total =  _df.reset_index(drop=True)\n",
    "    \n",
    "    def get_df(self):\n",
    "        return self.df_total\n",
    "    \n",
    "    def save_df(self, save_path):\n",
    "        logger.info(\"save_pathh : {}\".format(save_path))\n",
    "        self.df_total.to_csv(save_path)\n",
    "        "
   ]
  },
  {
   "cell_type": "markdown",
   "id": "8a1641ff",
   "metadata": {},
   "source": [
    "使用例"
   ]
  },
  {
   "cell_type": "code",
   "execution_count": 28,
   "id": "19a51bbb",
   "metadata": {},
   "outputs": [
    {
     "name": "stderr",
     "output_type": "stream",
     "text": [
      "2022-12-11 13:40:37.141 | INFO     | __main__:read:8 - read data_path : ./data/002_delivery_slip/002_delivery_slip_v4.pdf\n",
      "Got stderr: Dec 11, 2022 1:40:38 PM org.apache.fontbox.ttf.CmapSubtable processSubtype14\n",
      "WARNING: Format 14 cmap table is not supported and will be ignored\n",
      "Dec 11, 2022 1:40:38 PM org.apache.fontbox.ttf.CmapSubtable processSubtype14\n",
      "WARNING: Format 14 cmap table is not supported and will be ignored\n",
      "\n",
      "2022-12-11 13:40:39.591 | INFO     | __main__:save_df:23 - save_pathh : ./data/002_delivery_slip/pdf_raw_csv_v4.csv\n"
     ]
    },
    {
     "name": "stdout",
     "output_type": "stream",
     "text": [
      "            摘要   数量 単位     単価       金額  2022/10/3  2022/10/4  2022/10/5  \\\n",
      "0      Sample1  220  個    900  198,000         10         30         50   \n",
      "1      Sample2  200  個    600  120,000         10         30         40   \n",
      "2      Sample3  220  個    200   44,000         10         50         30   \n",
      "3      Sample4  240  個    300   72,000         30         50         10   \n",
      "4      Sample5  120  個    500   60,000         10         10         10   \n",
      "..         ...  ... ..    ...      ...        ...        ...        ...   \n",
      "118  Sample119  190  個    900  171,000         10         10         20   \n",
      "119  Sample120  250  個    100   25,000         50         30         10   \n",
      "120  Sample121  230  個  1,000  230,000         30         30         30   \n",
      "121  Sample122  240  個    900  216,000         10         40         40   \n",
      "122  Sample123  250  個    800  200,000         40         10         40   \n",
      "\n",
      "     2022/10/6  2022/10/7  2022/10/8  2022/10/9  2022/10/10  \n",
      "0           30         30         20         30          20  \n",
      "1           30         30         20         20          20  \n",
      "2           30         10         30         40          20  \n",
      "3           30         30         10         40          40  \n",
      "4           40         10         10         10          20  \n",
      "..         ...        ...        ...        ...         ...  \n",
      "118         50         30         10         20          40  \n",
      "119         50         20         10         50          30  \n",
      "120         10         40         20         40          30  \n",
      "121         50         40         10         10          40  \n",
      "122         50         20         20         30          40  \n",
      "\n",
      "[123 rows x 13 columns]\n"
     ]
    }
   ],
   "source": [
    "PReader = PdfReader()\n",
    "PReader.read(data_path=delivery_slip_path)\n",
    "PReader.merge()\n",
    "pdf_df = PReader.get_df()\n",
    "print(pdf_df)\n",
    "PReader.save_df(save_path=pdf_csv_save_path)"
   ]
  },
  {
   "cell_type": "code",
   "execution_count": null,
   "id": "96771b18",
   "metadata": {},
   "outputs": [],
   "source": []
  }
 ],
 "metadata": {
  "kernelspec": {
   "display_name": "Python 3 (ipykernel)",
   "language": "python",
   "name": "python3"
  },
  "language_info": {
   "codemirror_mode": {
    "name": "ipython",
    "version": 3
   },
   "file_extension": ".py",
   "mimetype": "text/x-python",
   "name": "python",
   "nbconvert_exporter": "python",
   "pygments_lexer": "ipython3",
   "version": "3.9.2"
  }
 },
 "nbformat": 4,
 "nbformat_minor": 5
}
